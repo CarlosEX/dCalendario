{
 "cells": [
  {
   "cell_type": "code",
   "execution_count": 15,
   "metadata": {},
   "outputs": [
    {
     "data": {
      "text/html": [
       "<div>\n",
       "<style scoped>\n",
       "    .dataframe tbody tr th:only-of-type {\n",
       "        vertical-align: middle;\n",
       "    }\n",
       "\n",
       "    .dataframe tbody tr th {\n",
       "        vertical-align: top;\n",
       "    }\n",
       "\n",
       "    .dataframe thead th {\n",
       "        text-align: right;\n",
       "    }\n",
       "</style>\n",
       "<table border=\"1\" class=\"dataframe\">\n",
       "  <thead>\n",
       "    <tr style=\"text-align: right;\">\n",
       "      <th></th>\n",
       "      <th>Ano</th>\n",
       "      <th>MesNum</th>\n",
       "      <th>NomeMes</th>\n",
       "      <th>FaturamentoTotal</th>\n",
       "    </tr>\n",
       "  </thead>\n",
       "  <tbody>\n",
       "    <tr>\n",
       "      <th>0</th>\n",
       "      <td>2024</td>\n",
       "      <td>1</td>\n",
       "      <td>Janeiro</td>\n",
       "      <td>1000</td>\n",
       "    </tr>\n",
       "    <tr>\n",
       "      <th>1</th>\n",
       "      <td>2024</td>\n",
       "      <td>2</td>\n",
       "      <td>Fevereiro</td>\n",
       "      <td>3250</td>\n",
       "    </tr>\n",
       "    <tr>\n",
       "      <th>2</th>\n",
       "      <td>2024</td>\n",
       "      <td>3</td>\n",
       "      <td>Março</td>\n",
       "      <td>1400</td>\n",
       "    </tr>\n",
       "  </tbody>\n",
       "</table>\n",
       "</div>"
      ],
      "text/plain": [
       "    Ano  MesNum    NomeMes  FaturamentoTotal\n",
       "0  2024       1    Janeiro              1000\n",
       "1  2024       2  Fevereiro              3250\n",
       "2  2024       3      Março              1400"
      ]
     },
     "execution_count": 15,
     "metadata": {},
     "output_type": "execute_result"
    }
   ],
   "source": [
    "import pandas as pd\n",
    "import dcalendario\n",
    "\n",
    "d_calendario = dcalendario.generate_calendar_df('2024-01-01', '2024-12-31', locale=\"pt_BR\")\n",
    "\n",
    "dados_vendas = {\n",
    "    \"DataVenda\": [\"2024-01-05\", \"2024-01-10\", \"2024-02-15\", \"2024-02-20\", \"2024-03-05\", \"2024-03-18\"],\n",
    "    \"Produto\": [\"Produto A\", \"Produto B\", \"Produto A\", \"Produto C\", \"Produto B\", \"Produto A\"],\n",
    "    \"Quantidade\": [10, 5, 20, 15, 10, 8],\n",
    "    \"ValorUnitario\": [50, 100, 50, 150, 100, 50]\n",
    "}\n",
    "\n",
    "f_vendas = pd.DataFrame(dados_vendas)\n",
    "f_vendas[\"DataVenda\"] = pd.to_datetime(f_vendas[\"DataVenda\"]) \n",
    "f_vendas[\"Faturamento\"] = f_vendas[\"Quantidade\"] * f_vendas[\"ValorUnitario\"] \n",
    "\n",
    "f_vendas_calendario = pd.merge(\n",
    "    f_vendas, \n",
    "    d_calendario, \n",
    "    left_on=\"DataVenda\", \n",
    "    right_on=\"Data\", \n",
    "    how=\"inner\"\n",
    ")\n",
    "\n",
    "faturamento_mensal = f_vendas_calendario.groupby([\"Ano\", \"MesNum\", \"NomeMes\"], as_index=False).agg(\n",
    "    FaturamentoTotal=(\"Faturamento\", \"sum\")\n",
    ").sort_values(by=[\"Ano\", \"MesNum\"])\n",
    "\n",
    "faturamento_mensal\n"
   ]
  }
 ],
 "metadata": {
  "kernelspec": {
   "display_name": "venv",
   "language": "python",
   "name": "python3"
  },
  "language_info": {
   "codemirror_mode": {
    "name": "ipython",
    "version": 3
   },
   "file_extension": ".py",
   "mimetype": "text/x-python",
   "name": "python",
   "nbconvert_exporter": "python",
   "pygments_lexer": "ipython3",
   "version": "3.9.13"
  }
 },
 "nbformat": 4,
 "nbformat_minor": 2
}
